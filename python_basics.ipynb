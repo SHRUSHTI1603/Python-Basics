{
  "nbformat": 4,
  "nbformat_minor": 0,
  "metadata": {
    "colab": {
      "provenance": []
    },
    "kernelspec": {
      "name": "python3",
      "display_name": "Python 3"
    },
    "language_info": {
      "name": "python"
    }
  },
  "cells": [
    {
      "cell_type": "markdown",
      "source": [
        "1. what is Python, and why is it popular?\n",
        "\n",
        "    -High-level, interpreted language created by Guido van Rossum in 1991.\n",
        "\n",
        "    -Simple, readable syntax.\n",
        "\n",
        "    -Supports structured, object-oriented, and functional programming.\n",
        "\n",
        "    -Used in web development, data science, AI, machine learning, and automation.\n",
        "\n",
        "    -Easy to learn, with vast libraries (e.g., NumPy, Django, TensorFlow).\n",
        "\n",
        "    -Runs on major OS."
      ],
      "metadata": {
        "id": "2-lsWJh9Nqun"
      }
    },
    {
      "cell_type": "markdown",
      "source": [
        "2. What is an interpreter in Python?\n",
        "\n",
        "    -An interpreter is a program that executes Python code line by line.\n",
        "\n",
        "    -It converts Python code into machine language during execution.\n",
        "\n",
        "    -Unlike compilers, it doesn't produce an output file.\n",
        "    \n",
        "    -Makes Python easy to test and debug.\n"
      ],
      "metadata": {
        "id": "qLc66B-rOjh-"
      }
    },
    {
      "cell_type": "markdown",
      "source": [
        "3. What are pre-defined keywords in Python?\n",
        "\n",
        "    Pre-defined keywords are reserved words in Python that have special meanings and serve specific purposes in the language's syntax and structure.\n",
        "\n",
        "\n",
        "    False    None     True     and      as\n",
        "    assert   async    await    break    class\n",
        "    continue def      del      elif     else\n",
        "    except   finally  for      from     global\n",
        "    if       import   in       is       lambda\n",
        "    nonlocal not      or       pass     raise\n",
        "    return   try      while    with     yield"
      ],
      "metadata": {
        "id": "UKB9mNESPcEL"
      }
    },
    {
      "cell_type": "markdown",
      "source": [
        "4. Can keywords be used as variable names ?\n",
        "   \n",
        "    No, keywords cannot be used as variable names in Python.\n",
        "    It will also give you a SyntaxError."
      ],
      "metadata": {
        "id": "TZ43ClwxmohX"
      }
    },
    {
      "cell_type": "markdown",
      "source": [
        "5. What is mutability in Python ?\n",
        "\n",
        "    Mutability in Python means whether an object's value can be changed after it is created.\n",
        "\n",
        "    -Mutable objects like lists can be changed.\n",
        "\n",
        "    -Immutable objects like strings cannot be changed."
      ],
      "metadata": {
        "id": "DwSdxWFlogeh"
      }
    },
    {
      "cell_type": "code",
      "source": [
        "fruits = [\"apple\", \"banana\"]\n",
        "fruits[0] = \"mango\"    # Changed \"apple\" to \"mango\"\n",
        "print(fruits)          # ['mango', 'banana']"
      ],
      "metadata": {
        "colab": {
          "base_uri": "https://localhost:8080/"
        },
        "id": "tcvnMMTypQ7Q",
        "outputId": "74649b33-232f-4dbb-e0e8-a35a92de0a0b"
      },
      "execution_count": null,
      "outputs": [
        {
          "output_type": "stream",
          "name": "stdout",
          "text": [
            "['mango', 'banana']\n"
          ]
        }
      ]
    },
    {
      "cell_type": "code",
      "source": [
        "name = \"Sam\"\n",
        "# name[0] = \"P\"   # This will give an error because strings can't change"
      ],
      "metadata": {
        "id": "axnc4DeWpxb2"
      },
      "execution_count": null,
      "outputs": []
    },
    {
      "cell_type": "markdown",
      "source": [
        "6. Why are lists mutable, but tuples are immutable ?\n",
        "  \n",
        "    Lists are mutable because they are designed to store items that may change.\n",
        "    You might want to add, remove, or update items in a list during your program."
      ],
      "metadata": {
        "id": "Nftm22vip5LW"
      }
    },
    {
      "cell_type": "code",
      "source": [
        "fruits = [\"apple\", \"banana\"]\n",
        "fruits.append(\"mango\")   # Added \"mango\"\n",
        "print(fruits)            # ['apple', 'banana', 'mango']"
      ],
      "metadata": {
        "colab": {
          "base_uri": "https://localhost:8080/"
        },
        "id": "JELJ8Y-6qxOm",
        "outputId": "ac567c8a-29d5-4ca9-b232-160da60b9bcb"
      },
      "execution_count": null,
      "outputs": [
        {
          "output_type": "stream",
          "name": "stdout",
          "text": [
            "['apple', 'banana', 'mango']\n"
          ]
        }
      ]
    },
    {
      "cell_type": "markdown",
      "source": [
        "    Tuples are immutable because they are meant to store fixed data.\n",
        "    Once a tuple is created, it stays the same — this protects the data from accidental changes."
      ],
      "metadata": {
        "id": "2BgQwrB0q1Gb"
      }
    },
    {
      "cell_type": "code",
      "source": [
        "colors = (\"red\", \"green\", \"blue\")\n",
        "# colors[0] = \"yellow\"   # ❌ Error: tuple object does not support item assignment"
      ],
      "metadata": {
        "id": "dMd58CA6q9WD"
      },
      "execution_count": null,
      "outputs": []
    },
    {
      "cell_type": "markdown",
      "source": [
        "7. What is the difference between “==” and “is” operators in Python ?\n",
        "\n",
        "    == (Equal to)\n",
        "\n",
        "    Checks if two values are the same.\n",
        "\n",
        "    Example: Are they equal?\n",
        "\n",
        "    is (Identity operator)\n",
        "\n",
        "    Checks if two objects are exactly the same (same place in memory).\n",
        "\n"
      ],
      "metadata": {
        "id": "2ZqJD0SqrB8L"
      }
    },
    {
      "cell_type": "code",
      "source": [
        "# Example for ==\n",
        "a = [1, 2, 3]\n",
        "b = [1, 2, 3]\n",
        "print(a == b)   # True → values are same\n",
        "\n",
        "# Example for is\n",
        "print(a is b)   # False → they are NOT the same object"
      ],
      "metadata": {
        "colab": {
          "base_uri": "https://localhost:8080/"
        },
        "id": "x5EqsclErsNB",
        "outputId": "066dbf3e-6807-4581-fc79-fe3384e50051"
      },
      "execution_count": null,
      "outputs": [
        {
          "output_type": "stream",
          "name": "stdout",
          "text": [
            "True\n",
            "False\n"
          ]
        }
      ]
    },
    {
      "cell_type": "markdown",
      "source": [
        "8. What are logical operators in Python ?\n",
        "    \n",
        "    Logical operators in Python are used to combine two or more conditions.\n",
        "    They help us make decisions in programs (like saying \"if both are true,\" \"if one is true,\" etc.).\n",
        "\n",
        "    Python has three logical operators:\n",
        "\n",
        "    -and = both must be true\n",
        "\n",
        "    -or = at least one true\n",
        "\n",
        "    -not = reverse\n",
        "\n",
        "\n",
        "\n",
        "\n",
        "\n",
        "\n"
      ],
      "metadata": {
        "id": "523PyaIGryqx"
      }
    },
    {
      "cell_type": "code",
      "source": [
        "# and example\n",
        "a = 5\n",
        "print(a > 2 and a < 10)   # True (both are True)\n",
        "\n",
        "# or example\n",
        "b = 3\n",
        "print(b < 2 or b < 5)     # True (second is True)\n",
        "\n",
        "# not example\n",
        "c = True\n",
        "print(not c)              # False (opposite of True)"
      ],
      "metadata": {
        "id": "OZbqoFCXskbI"
      },
      "execution_count": null,
      "outputs": []
    },
    {
      "cell_type": "markdown",
      "source": [
        "9. What is type casting in Python ?\n",
        "   \n",
        "    Type casting in Python is the process of converting one data type to another.\n",
        "\n",
        "    -Implicit casting occurs automatically when there is no risk of data loss (e.g., integer to float).\n",
        "\n",
        "    -Explicit casting is done manually using functions like int(), float(), and str(), to change the data type."
      ],
      "metadata": {
        "id": "NhSU8PKWsl1O"
      }
    },
    {
      "cell_type": "markdown",
      "source": [
        " 10. What is the difference between implicit and explicit type casting ?\n",
        "\n",
        "| **Aspect**               | **Implicit Type Casting**                               | **Explicit Type Casting**                                      |\n",
        "|--------------------------|---------------------------------------------------------|-----------------------------------------------------------------|\n",
        "| **Definition**            | Python automatically converts data types when possible. | Programmer manually converts data types using functions.       |\n",
        "| **Data Type Conversion**  | Converts from a **lower** data type to a **higher** one (e.g., int to float). | Converts between any data types (e.g., float to int).           |\n",
        "| **Risk of Data Loss**     | **No risk** of data loss or truncation.                 | May cause **data loss** (e.g., float to int).                  |\n",
        "| **Example**               | `num_int = 5` and `num_float = 5.5` → result is `10.5`   | `num_float = 5.7` → `int(num_float)` results in `5` (decimal lost) |\n",
        "| **Control**               | **Automatic**, no programmer intervention.              | **Manual**, programmer must specify conversion.                |\n"
      ],
      "metadata": {
        "id": "b0TGkBl4tgsM"
      }
    },
    {
      "cell_type": "markdown",
      "source": [
        "11. What is the purpose of conditional statements in Python ?\n",
        "\n",
        "    Conditional statements in Python allow the program to make decisions based on conditions. They control the flow of execution, executing specific blocks of code only if certain conditions are met (if, elif, else)."
      ],
      "metadata": {
        "id": "jR2WppdcuuuA"
      }
    },
    {
      "cell_type": "markdown",
      "source": [
        "12. How does the elif statement work ?\n",
        "\n",
        "    The elif statement in Python is used to check multiple conditions. If the if condition is false, it checks the next elif condition. It executes the block if the condition is true."
      ],
      "metadata": {
        "id": "-EqHEIVYvS9X"
      }
    },
    {
      "cell_type": "code",
      "source": [
        "age = 20\n",
        "\n",
        "if age < 18:\n",
        "    print(\"You are a minor.\")\n",
        "elif age >= 18 and age < 21:\n",
        "    print(\"You are an adult but not yet 21.\")\n",
        "else:\n",
        "    print(\"You are 21 or older.\")"
      ],
      "metadata": {
        "colab": {
          "base_uri": "https://localhost:8080/"
        },
        "id": "zpTXvwbqv1-u",
        "outputId": "2f6914aa-bff3-459c-fa17-af506890f243"
      },
      "execution_count": null,
      "outputs": [
        {
          "output_type": "stream",
          "name": "stdout",
          "text": [
            "You are an adult but not yet 21.\n"
          ]
        }
      ]
    },
    {
      "cell_type": "markdown",
      "source": [
        "14. What is the difference between for and while loops ?\n",
        "  \n",
        "    -A for loop repeats a task for a set number of times (like going through a list or range of numbers).\n",
        "\n",
        "    -A while loop keeps repeating a task as long as a condition is true.\n",
        "  "
      ],
      "metadata": {
        "id": "OUemXFKCv3tN"
      }
    },
    {
      "cell_type": "code",
      "source": [
        "# for loop\n",
        "for i in range(3):\n",
        "    print(i)  # Prints 0, 1, 2\n",
        "\n",
        "# while loop\n",
        "count = 0\n",
        "while count < 3:\n",
        "    print(count)  # Prints 0, 1, 2\n",
        "    count += 1"
      ],
      "metadata": {
        "id": "feoEN4OiwtZ7"
      },
      "execution_count": null,
      "outputs": []
    },
    {
      "cell_type": "markdown",
      "source": [
        "14. Describe a scenario where a while loop is more suitable than a for loop.\n",
        "\n",
        "    A while loop is more suitable when you don’t know how many times the task will repeat, but you have a condition that will stop it."
      ],
      "metadata": {
        "id": "NkuW7v6rww1z"
      }
    },
    {
      "cell_type": "markdown",
      "source": [
        "# Practical Questions"
      ],
      "metadata": {
        "id": "zfZkArugyBRQ"
      }
    },
    {
      "cell_type": "markdown",
      "source": [
        "1.  Write a Python program to print \"Hello, World!\""
      ],
      "metadata": {
        "id": "Dv2eyziiyK63"
      }
    },
    {
      "cell_type": "code",
      "source": [
        "print(\"Hello, World!\")"
      ],
      "metadata": {
        "colab": {
          "base_uri": "https://localhost:8080/"
        },
        "id": "4QaCVEmGyMsH",
        "outputId": "b5faf4bd-45d0-4731-9c22-43e4ae84b5e9"
      },
      "execution_count": null,
      "outputs": [
        {
          "output_type": "stream",
          "name": "stdout",
          "text": [
            "Hello, World!\n"
          ]
        }
      ]
    },
    {
      "cell_type": "markdown",
      "source": [
        "2. Write a Python program that displays your name and age."
      ],
      "metadata": {
        "id": "1kFSsQ7LyoNO"
      }
    },
    {
      "cell_type": "code",
      "source": [
        "name = \"Shrushti\"\n",
        "age = 25\n",
        "\n",
        "print(\"My name is\", name)\n",
        "print(\"I am\", age, \"years old.\")\n"
      ],
      "metadata": {
        "colab": {
          "base_uri": "https://localhost:8080/"
        },
        "id": "9aX3IWTLyz4O",
        "outputId": "8d53a199-1733-494c-b4ea-4bf998f4ae9a"
      },
      "execution_count": null,
      "outputs": [
        {
          "output_type": "stream",
          "name": "stdout",
          "text": [
            "My name is Shrushti\n",
            "I am 25 years old.\n"
          ]
        }
      ]
    },
    {
      "cell_type": "markdown",
      "source": [
        "3. Write code to print all the pre-defined keywords in Python using the keyword library."
      ],
      "metadata": {
        "id": "2p-58vKIztJk"
      }
    },
    {
      "cell_type": "code",
      "source": [
        "import keyword\n",
        "\n",
        "# Print all the Python keywords\n",
        "print(\"Python keywords are:\")\n",
        "print(keyword.kwlist)"
      ],
      "metadata": {
        "colab": {
          "base_uri": "https://localhost:8080/"
        },
        "id": "eJzqfODzz_lD",
        "outputId": "72447af8-5d9b-4009-910d-1d7d8d8064b3"
      },
      "execution_count": null,
      "outputs": [
        {
          "output_type": "stream",
          "name": "stdout",
          "text": [
            "Python keywords are:\n",
            "['False', 'None', 'True', 'and', 'as', 'assert', 'async', 'await', 'break', 'class', 'continue', 'def', 'del', 'elif', 'else', 'except', 'finally', 'for', 'from', 'global', 'if', 'import', 'in', 'is', 'lambda', 'nonlocal', 'not', 'or', 'pass', 'raise', 'return', 'try', 'while', 'with', 'yield']\n"
          ]
        }
      ]
    },
    {
      "cell_type": "markdown",
      "source": [
        "4. Write a program that checks if a given word is a Python keyword."
      ],
      "metadata": {
        "id": "QKGYkQQ_0Ilq"
      }
    },
    {
      "cell_type": "code",
      "source": [
        "import keyword\n",
        "\n",
        "word = input(\"Enter a word: \")\n",
        "\n",
        "if keyword.iskeyword(word):\n",
        "    print(word, \"is a Python keyword.\")\n",
        "else:\n",
        "    print(word, \"is not a Python keyword.\")"
      ],
      "metadata": {
        "colab": {
          "base_uri": "https://localhost:8080/"
        },
        "id": "ufS-MLeg0lwR",
        "outputId": "ef53dfe1-e934-4a74-a08c-13e19a85f64b"
      },
      "execution_count": null,
      "outputs": [
        {
          "output_type": "stream",
          "name": "stdout",
          "text": [
            "Enter a word: and\n",
            "and is a Python keyword.\n"
          ]
        }
      ]
    },
    {
      "cell_type": "markdown",
      "source": [
        "5. Create a list and tuple in Python, and demonstrate how attempting to change an element works differently for each."
      ],
      "metadata": {
        "id": "Ore4JyXI0-u4"
      }
    },
    {
      "cell_type": "code",
      "source": [
        "# Creating a list\n",
        "my_list = [10, 20, 30]\n",
        "print(\"Original List:\", my_list)"
      ],
      "metadata": {
        "colab": {
          "base_uri": "https://localhost:8080/"
        },
        "id": "ZxWXKYzy1BsA",
        "outputId": "8541be91-3943-490b-aedf-64bd30ae42ca"
      },
      "execution_count": null,
      "outputs": [
        {
          "output_type": "stream",
          "name": "stdout",
          "text": [
            "Original List: [10, 20, 30]\n"
          ]
        }
      ]
    },
    {
      "cell_type": "code",
      "source": [
        "# Changing an element in the list\n",
        "my_list[1] = 200\n",
        "print(\"List after change:\", my_list)"
      ],
      "metadata": {
        "colab": {
          "base_uri": "https://localhost:8080/"
        },
        "id": "5bGUTgXf1EDo",
        "outputId": "cec93c2f-c60e-4c0f-8cfa-ca4a055d3c18"
      },
      "execution_count": null,
      "outputs": [
        {
          "output_type": "stream",
          "name": "stdout",
          "text": [
            "List after change: [10, 200, 30]\n"
          ]
        }
      ]
    },
    {
      "cell_type": "code",
      "source": [
        "# Creating a tuple\n",
        "my_tuple = (10, 20, 30)\n",
        "print(\"Original Tuple:\", my_tuple)"
      ],
      "metadata": {
        "colab": {
          "base_uri": "https://localhost:8080/"
        },
        "id": "mcCtdocr1JSY",
        "outputId": "b1e80856-fde2-4f9c-cf02-6104f5b286fa"
      },
      "execution_count": null,
      "outputs": [
        {
          "output_type": "stream",
          "name": "stdout",
          "text": [
            "Original Tuple: (10, 20, 30)\n"
          ]
        }
      ]
    },
    {
      "cell_type": "code",
      "source": [
        "# Trying to change an element in the tuple\n",
        "try:\n",
        "    my_tuple[1] = 200  # This will cause an error\n",
        "except TypeError as e:\n",
        "    print(\"Error:\", e)"
      ],
      "metadata": {
        "colab": {
          "base_uri": "https://localhost:8080/"
        },
        "id": "rorPxqHP1LBY",
        "outputId": "c19ebc9b-1bc8-4250-dda3-5c2e2ad8fc61"
      },
      "execution_count": null,
      "outputs": [
        {
          "output_type": "stream",
          "name": "stdout",
          "text": [
            "Error: 'tuple' object does not support item assignment\n"
          ]
        }
      ]
    },
    {
      "cell_type": "markdown",
      "source": [
        "6.  Write a function to demonstrate the behavior of mutable and immutable arguments."
      ],
      "metadata": {
        "id": "5XhXtoox1N43"
      }
    },
    {
      "cell_type": "code",
      "source": [
        "# Function to demonstrate mutable and immutable behavior\n",
        "def change_values(my_list, my_number):\n",
        "    my_list[0] = 100  # Modify the mutable argument (list)\n",
        "    my_number = 50    # Modify the immutable argument (integer)\n",
        "\n",
        "# Create a mutable list and an immutable integer\n",
        "my_list = [1, 2, 3]\n",
        "my_number = 10\n",
        "\n",
        "# Call the function\n",
        "change_values(my_list, my_number)\n",
        "\n",
        "# Print the results\n",
        "print(\"List after change:\", my_list)      # List is modified\n",
        "print(\"Number after change:\", my_number)  # Number is not modified"
      ],
      "metadata": {
        "colab": {
          "base_uri": "https://localhost:8080/"
        },
        "id": "7NN7OH4b9Q7k",
        "outputId": "37059352-fe18-41d0-b003-3eb4a84161bc"
      },
      "execution_count": null,
      "outputs": [
        {
          "output_type": "stream",
          "name": "stdout",
          "text": [
            "List after change: [100, 2, 3]\n",
            "Number after change: 10\n"
          ]
        }
      ]
    },
    {
      "cell_type": "markdown",
      "source": [
        "7.Write a program that performs basic arithmetic operations on two user-input numbers.\n"
      ],
      "metadata": {
        "id": "muVUAi5h9UPE"
      }
    },
    {
      "cell_type": "code",
      "source": [
        "# Taking input from the user\n",
        "num1 = float(input(\"Enter the first number: \"))\n",
        "num2 = float(input(\"Enter the second number: \"))\n",
        "\n",
        "# Performing and printing the operations\n",
        "print(\"Sum:\", num1 + num2)\n",
        "print(\"Difference:\", num1 - num2)\n",
        "print(\"Product:\", num1 * num2)\n",
        "print(\"Division:\", num1 / num2)"
      ],
      "metadata": {
        "colab": {
          "base_uri": "https://localhost:8080/"
        },
        "id": "R-F4-xra9YHL",
        "outputId": "510cb5fe-1c5b-4edf-b9b1-ae888e59cad9"
      },
      "execution_count": null,
      "outputs": [
        {
          "output_type": "stream",
          "name": "stdout",
          "text": [
            "Enter the first number: 8\n",
            "Enter the second number: 4\n",
            "Sum: 12.0\n",
            "Difference: 4.0\n",
            "Product: 32.0\n",
            "Division: 2.0\n"
          ]
        }
      ]
    },
    {
      "cell_type": "markdown",
      "source": [
        "8.Write a program to demonstrate the use of logical operators."
      ],
      "metadata": {
        "id": "P-61KIP99v0L"
      }
    },
    {
      "cell_type": "code",
      "source": [
        "# Taking input from the user\n",
        "x = int(input(\"Enter a number: \"))\n",
        "y = int(input(\"Enter another number: \"))\n",
        "\n",
        "# Using logical operators\n",
        "# and operator\n",
        "if x > 0 and y > 0:\n",
        "    print(\"Both are positive!\")\n",
        "\n",
        "# or operator\n",
        "if x > 0 or y > 0:\n",
        "    print(\"At least one is positive!\")\n",
        "\n",
        "# not operator\n",
        "if not x < 0:\n",
        "    print(\"First number is not negative!\")"
      ],
      "metadata": {
        "colab": {
          "base_uri": "https://localhost:8080/"
        },
        "id": "92fTaOwV92Wy",
        "outputId": "26f0f8cb-fa14-461a-be67-f1c8f87da0c2"
      },
      "execution_count": null,
      "outputs": [
        {
          "output_type": "stream",
          "name": "stdout",
          "text": [
            "Enter a number: 3\n",
            "Enter another number: -1\n",
            "At least one is positive!\n",
            "First number is not negative!\n"
          ]
        }
      ]
    },
    {
      "cell_type": "markdown",
      "source": [
        "9.Write a Python program to convert user input from string to integer, float, and boolean types."
      ],
      "metadata": {
        "id": "5cWno419-rGg"
      }
    },
    {
      "cell_type": "code",
      "source": [
        "# Taking input from the user (as a string)\n",
        "user_input = input(\"Enter a value: \")\n",
        "\n",
        "# Convert the input to integer, float, and boolean\n",
        "user_input_int = int(user_input)  # Convert to integer\n",
        "user_input_float = float(user_input)  # Convert to float\n",
        "user_input_bool = user_input == \"True\"  # Convert to boolean\n",
        "\n",
        "# Display the converted values\n",
        "print(\"As an integer:\", user_input_int)\n",
        "print(\"As a float:\", user_input_float)\n",
        "print(\"As a boolean:\", user_input_bool)"
      ],
      "metadata": {
        "colab": {
          "base_uri": "https://localhost:8080/"
        },
        "id": "OKPvcjMJ-w_Q",
        "outputId": "af34f1d8-21bb-42ce-b7fa-921c4ba80480"
      },
      "execution_count": null,
      "outputs": [
        {
          "output_type": "stream",
          "name": "stdout",
          "text": [
            "Enter a value: 10\n",
            "As an integer: 10\n",
            "As a float: 10.0\n",
            "As a boolean: False\n"
          ]
        }
      ]
    },
    {
      "cell_type": "markdown",
      "source": [
        "10. Write code to demonstrate type casting with list elements."
      ],
      "metadata": {
        "id": "wyxP4632_lRt"
      }
    },
    {
      "cell_type": "code",
      "source": [
        "# A list of strings (numbers in string form)\n",
        "string_list = [\"1\", \"2\", \"3\", \"4\"]\n",
        "\n",
        "# Create an empty list to store integers\n",
        "int_list = []\n",
        "\n",
        "# Convert each string to integer and add to new list\n",
        "for item in string_list:\n",
        "    int_list.append(int(item))\n",
        "\n",
        "# Print the original and converted lists\n",
        "print(\"Original list (strings):\", string_list)\n",
        "print(\"Converted list (integers):\", int_list)"
      ],
      "metadata": {
        "colab": {
          "base_uri": "https://localhost:8080/"
        },
        "id": "PSEwh9kZ_qad",
        "outputId": "717d900e-a58e-4a7a-98ee-9668c75282eb"
      },
      "execution_count": null,
      "outputs": [
        {
          "output_type": "stream",
          "name": "stdout",
          "text": [
            "Original list (strings): ['1', '2', '3', '4']\n",
            "Converted list (integers): [1, 2, 3, 4]\n"
          ]
        }
      ]
    },
    {
      "cell_type": "markdown",
      "source": [
        "11.  Write a program that checks if a number is positive, negative, or zero.\n",
        "\n"
      ],
      "metadata": {
        "id": "IUsD0qLFArky"
      }
    },
    {
      "cell_type": "code",
      "source": [
        "# Take input from the user\n",
        "num = float(input(\"Enter a number: \"))\n",
        "\n",
        "# Check if the number is positive, negative, or zero\n",
        "if num > 0:\n",
        "    print(\"The number is positive.\")\n",
        "elif num < 0:\n",
        "    print(\"The number is negative.\")\n",
        "else:\n",
        "    print(\"The number is zero.\")"
      ],
      "metadata": {
        "colab": {
          "base_uri": "https://localhost:8080/"
        },
        "id": "GrrOFh83Ay6K",
        "outputId": "081cc45e-2044-4dda-a09d-adc284307360"
      },
      "execution_count": null,
      "outputs": [
        {
          "output_type": "stream",
          "name": "stdout",
          "text": [
            "Enter a number: -5\n",
            "The number is negative.\n"
          ]
        }
      ]
    },
    {
      "cell_type": "markdown",
      "source": [
        "12.Write a for loop to print numbers from 1 to 10."
      ],
      "metadata": {
        "id": "2bPrHJ76BL9p"
      }
    },
    {
      "cell_type": "code",
      "source": [
        "# Using a for loop to print numbers from 1 to 10\n",
        "for i in range(1, 11):\n",
        "    print(i)"
      ],
      "metadata": {
        "colab": {
          "base_uri": "https://localhost:8080/"
        },
        "id": "T6OPHDE1BRLB",
        "outputId": "dde46571-c6c4-4d58-f8fc-f9ac95b20cff"
      },
      "execution_count": null,
      "outputs": [
        {
          "output_type": "stream",
          "name": "stdout",
          "text": [
            "1\n",
            "2\n",
            "3\n",
            "4\n",
            "5\n",
            "6\n",
            "7\n",
            "8\n",
            "9\n",
            "10\n"
          ]
        }
      ]
    },
    {
      "cell_type": "markdown",
      "source": [
        "13.Write a Python program to find the sum of all even numbers between 1 and 50."
      ],
      "metadata": {
        "id": "TMo-G8rZBXQZ"
      }
    },
    {
      "cell_type": "code",
      "source": [
        "# Initialize sum\n",
        "even_sum = 0\n",
        "\n",
        "# Loop from 1 to 50\n",
        "for i in range(1, 51):\n",
        "    if i % 2 == 0:  # Check if the number is even\n",
        "        even_sum += i  # Add even number to sum\n",
        "\n",
        "# Print the result\n",
        "print(\"Sum of even numbers from 1 to 50 is:\", even_sum)"
      ],
      "metadata": {
        "colab": {
          "base_uri": "https://localhost:8080/"
        },
        "id": "Kv64BiD9BcW5",
        "outputId": "297f1be5-646f-4dae-ecdc-29374cd9f805"
      },
      "execution_count": null,
      "outputs": [
        {
          "output_type": "stream",
          "name": "stdout",
          "text": [
            "Sum of even numbers from 1 to 50 is: 650\n"
          ]
        }
      ]
    },
    {
      "cell_type": "markdown",
      "source": [
        "14. Write a program to reverse a string using a while loop."
      ],
      "metadata": {
        "id": "ti9My3iZB6RP"
      }
    },
    {
      "cell_type": "code",
      "source": [
        "# Input string from the user\n",
        "string = input(\"Enter a string: \")\n",
        "\n",
        "# Initialize an empty string for the reversed string\n",
        "reversed_string = \"\"\n",
        "\n",
        "# Start from the last character and move towards the first\n",
        "index = len(string) - 1\n",
        "\n",
        "# Use a while loop to reverse the string\n",
        "while index >= 0:\n",
        "    reversed_string += string[index]\n",
        "    index -= 1\n",
        "\n",
        "# Print the reversed string\n",
        "print(\"Reversed string:\", reversed_string)"
      ],
      "metadata": {
        "colab": {
          "base_uri": "https://localhost:8080/"
        },
        "id": "lvhrqgPMB8LQ",
        "outputId": "d4dd4c8a-71d6-4a07-9a10-d13295c72d40"
      },
      "execution_count": null,
      "outputs": [
        {
          "output_type": "stream",
          "name": "stdout",
          "text": [
            "Enter a string: hello\n",
            "Reversed string: olleh\n"
          ]
        }
      ]
    },
    {
      "cell_type": "markdown",
      "source": [
        "15.Write a Python program to calculate the factorial of a number provided by the user using a while loop."
      ],
      "metadata": {
        "id": "_XFm8JY-Cxee"
      }
    },
    {
      "cell_type": "code",
      "source": [
        "# Input: Taking a number from the user\n",
        "num = int(input(\"Enter a number: \"))\n",
        "\n",
        "# Initialize the factorial variable to 1\n",
        "factorial = 1\n",
        "\n",
        "# Calculate factorial using a while loop\n",
        "while num > 0:\n",
        "    factorial *= num\n",
        "    num -= 1\n",
        "\n",
        "# Output the result\n",
        "print(\"The factorial is:\", factorial)"
      ],
      "metadata": {
        "colab": {
          "base_uri": "https://localhost:8080/"
        },
        "id": "6dNP5x1eCyjV",
        "outputId": "8fa0964d-0129-4abf-e48d-6ebe1e88888f"
      },
      "execution_count": null,
      "outputs": [
        {
          "output_type": "stream",
          "name": "stdout",
          "text": [
            "Enter a number: 5\n",
            "The factorial is: 120\n"
          ]
        }
      ]
    }
  ]
}